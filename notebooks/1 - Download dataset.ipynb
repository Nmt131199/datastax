{
 "cells": [
  {
   "cell_type": "markdown",
   "id": "ed0c8395",
   "metadata": {},
   "source": [
    "## Download Datasets"
   ]
  },
  {
   "cell_type": "code",
   "execution_count": 13,
   "id": "f15450ce",
   "metadata": {},
   "outputs": [],
   "source": [
    "import pathlib\n",
    "\n",
    "USE_PROJECT_ROOT = True\n",
    "BASE_DIR = pathlib.Path(\".\").resolve()\n",
    "if USE_PROJECT_ROOT:\n",
    "    BASE_DIR = BASE_DIR.parent\n",
    "DATASET_DIR = BASE_DIR / \"datasets\"\n",
    "ZIPS_DIR = DATASET_DIR / 'zips'\n",
    "EXPORT_DIR = DATASET_DIR / \"exports\"\n",
    "SMS_SPAM_DIR = DATASET_DIR / 'imports' / 'sms-spam'\n",
    "YOUTUBE_SPAM_DIR = DATASET_DIR / 'imports' / 'youtube-spam'"
   ]
  },
  {
   "cell_type": "code",
   "execution_count": 24,
   "id": "01348c80",
   "metadata": {},
   "outputs": [
    {
     "data": {
      "text/plain": [
       "PosixPath('/home/cyrilng')"
      ]
     },
     "execution_count": 24,
     "metadata": {},
     "output_type": "execute_result"
    }
   ],
   "source": [
    "BASE_DIR"
   ]
  },
  {
   "cell_type": "code",
   "execution_count": 14,
   "id": "f61f6080",
   "metadata": {},
   "outputs": [],
   "source": [
    "ZIPS_DIR.mkdir(exist_ok=True, parents=True)\n",
    "\n",
    "EXPORT_DIR.mkdir(exist_ok=True, parents=True)\n",
    "\n",
    "SMS_SPAM_DIR.mkdir(exist_ok=True, parents=True)\n",
    "\n",
    "YOUTUBE_SPAM_DIR.mkdir(exist_ok=True, parents=True)"
   ]
  },
  {
   "cell_type": "code",
   "execution_count": 15,
   "id": "f0a647fb",
   "metadata": {},
   "outputs": [
    {
     "name": "stdout",
     "output_type": "stream",
     "text": [
      "  % Total    % Received % Xferd  Average Speed   Time    Time     Time  Current\n",
      "                                 Dload  Upload   Total   Spent    Left  Speed\n",
      "100  198k  100  198k    0     0  87798      0  0:00:02  0:00:02 --:--:-- 87830\n",
      "Archive:  /home/cyrilng/datasets/zips/uci-sms-spam.zip\n",
      "  inflating: /home/cyrilng/datasets/imports/sms-spam/SMSSpamCollection  \n",
      "  inflating: /home/cyrilng/datasets/imports/sms-spam/readme  \n"
     ]
    }
   ],
   "source": [
    "!curl https://archive.ics.uci.edu/ml/machine-learning-databases/00228/smsspamcollection.zip -o $ZIPS_DIR/uci-sms-spam.zip\n",
    "!unzip -o $ZIPS_DIR/uci-sms-spam.zip -d $SMS_SPAM_DIR"
   ]
  },
  {
   "cell_type": "code",
   "execution_count": 16,
   "id": "9c214a61",
   "metadata": {},
   "outputs": [
    {
     "name": "stdout",
     "output_type": "stream",
     "text": [
      "  % Total    % Received % Xferd  Average Speed   Time    Time     Time  Current\n",
      "                                 Dload  Upload   Total   Spent    Left  Speed\n",
      "100  159k  100  159k    0     0    97k      0  0:00:01  0:00:01 --:--:--   97k\n",
      "Archive:  /home/cyrilng/datasets/zips/uci-youtube-spam.zip\n",
      "  inflating: /home/cyrilng/datasets/imports/youtube-spam/Youtube01-Psy.csv  \n",
      "  inflating: /home/cyrilng/datasets/imports/youtube-spam/__MACOSX/._Youtube01-Psy.csv  \n",
      "  inflating: /home/cyrilng/datasets/imports/youtube-spam/Youtube02-KatyPerry.csv  \n",
      "  inflating: /home/cyrilng/datasets/imports/youtube-spam/__MACOSX/._Youtube02-KatyPerry.csv  \n",
      "  inflating: /home/cyrilng/datasets/imports/youtube-spam/Youtube03-LMFAO.csv  \n",
      "  inflating: /home/cyrilng/datasets/imports/youtube-spam/__MACOSX/._Youtube03-LMFAO.csv  \n",
      "  inflating: /home/cyrilng/datasets/imports/youtube-spam/Youtube04-Eminem.csv  \n",
      "  inflating: /home/cyrilng/datasets/imports/youtube-spam/__MACOSX/._Youtube04-Eminem.csv  \n",
      "  inflating: /home/cyrilng/datasets/imports/youtube-spam/Youtube05-Shakira.csv  \n",
      "  inflating: /home/cyrilng/datasets/imports/youtube-spam/__MACOSX/._Youtube05-Shakira.csv  \n"
     ]
    }
   ],
   "source": [
    "!curl https://archive.ics.uci.edu/ml/machine-learning-databases/00380/YouTube-Spam-Collection-v1.zip -o $ZIPS_DIR/uci-youtube-spam.zip\n",
    "!unzip -o $ZIPS_DIR/uci-youtube-spam.zip -d $YOUTUBE_SPAM_DIR"
   ]
  },
  {
   "cell_type": "markdown",
   "id": "90ed08ce",
   "metadata": {},
   "source": [
    "## Load datasets into Pandas DataFrame"
   ]
  },
  {
   "cell_type": "code",
   "execution_count": 17,
   "id": "00ae3a57",
   "metadata": {},
   "outputs": [],
   "source": [
    "import pandas as pd"
   ]
  },
  {
   "cell_type": "code",
   "execution_count": 18,
   "id": "98b44638",
   "metadata": {},
   "outputs": [],
   "source": [
    "sms_path = SMS_SPAM_DIR / 'SMSSpamCollection'\n",
    "sms_df = pd.read_csv(str(sms_path), sep='\\t', header=None)"
   ]
  },
  {
   "cell_type": "code",
   "execution_count": 19,
   "id": "4b8b1ee7",
   "metadata": {},
   "outputs": [],
   "source": [
    "sms_df.columns = ['label', 'text']\n",
    "sms_df['source'] = 'uci-spam-sms'"
   ]
  },
  {
   "cell_type": "code",
   "execution_count": 20,
   "id": "0f64b2d5",
   "metadata": {},
   "outputs": [],
   "source": [
    "location = YOUTUBE_SPAM_DIR\n",
    "csvs = list(location.glob(\"*.csv\"))"
   ]
  },
  {
   "cell_type": "code",
   "execution_count": 21,
   "id": "224ff69f",
   "metadata": {},
   "outputs": [],
   "source": [
    "new_dfs = []\n",
    "for csv in csvs:\n",
    "    csv_df = pd.read_csv(str(csvs[0]), usecols=['CLASS', 'CONTENT'])\n",
    "    csv_df.rename(columns={'CLASS': 'class', \"CONTENT\": 'text'}, inplace=True)\n",
    "    csv_df['label'] = csv_df['class'].apply(lambda x: \"spam\" if str(x) == \"1\" else \"ham\")\n",
    "    sub_df = csv_df.copy()[['label', 'text']] \n",
    "    new_dfs.append(sub_df)\n",
    "\n",
    "yt_df = pd.concat(new_dfs)\n",
    "yt_df['source'] = 'uci-youtube-spam'"
   ]
  },
  {
   "cell_type": "code",
   "execution_count": 22,
   "id": "9c6a5b32",
   "metadata": {},
   "outputs": [
    {
     "data": {
      "text/html": [
       "<div>\n",
       "<style scoped>\n",
       "    .dataframe tbody tr th:only-of-type {\n",
       "        vertical-align: middle;\n",
       "    }\n",
       "\n",
       "    .dataframe tbody tr th {\n",
       "        vertical-align: top;\n",
       "    }\n",
       "\n",
       "    .dataframe thead th {\n",
       "        text-align: right;\n",
       "    }\n",
       "</style>\n",
       "<table border=\"1\" class=\"dataframe\">\n",
       "  <thead>\n",
       "    <tr style=\"text-align: right;\">\n",
       "      <th></th>\n",
       "      <th>label</th>\n",
       "      <th>text</th>\n",
       "      <th>source</th>\n",
       "    </tr>\n",
       "  </thead>\n",
       "  <tbody>\n",
       "    <tr>\n",
       "      <th>0</th>\n",
       "      <td>ham</td>\n",
       "      <td>Go until jurong point, crazy.. Available only ...</td>\n",
       "      <td>uci-spam-sms</td>\n",
       "    </tr>\n",
       "    <tr>\n",
       "      <th>1</th>\n",
       "      <td>ham</td>\n",
       "      <td>Ok lar... Joking wif u oni...</td>\n",
       "      <td>uci-spam-sms</td>\n",
       "    </tr>\n",
       "    <tr>\n",
       "      <th>2</th>\n",
       "      <td>spam</td>\n",
       "      <td>Free entry in 2 a wkly comp to win FA Cup fina...</td>\n",
       "      <td>uci-spam-sms</td>\n",
       "    </tr>\n",
       "    <tr>\n",
       "      <th>3</th>\n",
       "      <td>ham</td>\n",
       "      <td>U dun say so early hor... U c already then say...</td>\n",
       "      <td>uci-spam-sms</td>\n",
       "    </tr>\n",
       "    <tr>\n",
       "      <th>4</th>\n",
       "      <td>ham</td>\n",
       "      <td>Nah I don't think he goes to usf, he lives aro...</td>\n",
       "      <td>uci-spam-sms</td>\n",
       "    </tr>\n",
       "    <tr>\n",
       "      <th>...</th>\n",
       "      <td>...</td>\n",
       "      <td>...</td>\n",
       "      <td>...</td>\n",
       "    </tr>\n",
       "    <tr>\n",
       "      <th>433</th>\n",
       "      <td>spam</td>\n",
       "      <td>Like this comment for no reason﻿</td>\n",
       "      <td>uci-youtube-spam</td>\n",
       "    </tr>\n",
       "    <tr>\n",
       "      <th>434</th>\n",
       "      <td>ham</td>\n",
       "      <td>love this song﻿</td>\n",
       "      <td>uci-youtube-spam</td>\n",
       "    </tr>\n",
       "    <tr>\n",
       "      <th>435</th>\n",
       "      <td>spam</td>\n",
       "      <td>this song is awesome. these guys are the best....</td>\n",
       "      <td>uci-youtube-spam</td>\n",
       "    </tr>\n",
       "    <tr>\n",
       "      <th>436</th>\n",
       "      <td>spam</td>\n",
       "      <td>HOW MANY THUMBS UP FOR LOUIS SAVING THE DAY!?!?﻿</td>\n",
       "      <td>uci-youtube-spam</td>\n",
       "    </tr>\n",
       "    <tr>\n",
       "      <th>437</th>\n",
       "      <td>ham</td>\n",
       "      <td>NICE :3﻿</td>\n",
       "      <td>uci-youtube-spam</td>\n",
       "    </tr>\n",
       "  </tbody>\n",
       "</table>\n",
       "<p>7762 rows × 3 columns</p>\n",
       "</div>"
      ],
      "text/plain": [
       "    label                                               text            source\n",
       "0     ham  Go until jurong point, crazy.. Available only ...      uci-spam-sms\n",
       "1     ham                      Ok lar... Joking wif u oni...      uci-spam-sms\n",
       "2    spam  Free entry in 2 a wkly comp to win FA Cup fina...      uci-spam-sms\n",
       "3     ham  U dun say so early hor... U c already then say...      uci-spam-sms\n",
       "4     ham  Nah I don't think he goes to usf, he lives aro...      uci-spam-sms\n",
       "..    ...                                                ...               ...\n",
       "433  spam                   Like this comment for no reason﻿  uci-youtube-spam\n",
       "434   ham                                    love this song﻿  uci-youtube-spam\n",
       "435  spam  this song is awesome. these guys are the best....  uci-youtube-spam\n",
       "436  spam   HOW MANY THUMBS UP FOR LOUIS SAVING THE DAY!?!?﻿  uci-youtube-spam\n",
       "437   ham                                           NICE :3﻿  uci-youtube-spam\n",
       "\n",
       "[7762 rows x 3 columns]"
      ]
     },
     "execution_count": 22,
     "metadata": {},
     "output_type": "execute_result"
    }
   ],
   "source": [
    "df = pd.concat([sms_df, yt_df])\n",
    "df"
   ]
  },
  {
   "cell_type": "markdown",
   "id": "835bd7b5",
   "metadata": {},
   "source": [
    "## Export complete dataset"
   ]
  },
  {
   "cell_type": "code",
   "execution_count": 23,
   "id": "6a1389fc",
   "metadata": {},
   "outputs": [],
   "source": [
    "df.to_csv(EXPORT_DIR / 'spam-dataset.csv', index=False)"
   ]
  },
  {
   "cell_type": "code",
   "execution_count": null,
   "id": "91214cfe",
   "metadata": {},
   "outputs": [],
   "source": []
  }
 ],
 "metadata": {
  "kernelspec": {
   "display_name": "datastax",
   "language": "python",
   "name": "python3"
  },
  "language_info": {
   "codemirror_mode": {
    "name": "ipython",
    "version": 3
   },
   "file_extension": ".py",
   "mimetype": "text/x-python",
   "name": "python",
   "nbconvert_exporter": "python",
   "pygments_lexer": "ipython3",
   "version": "3.10.6"
  },
  "vscode": {
   "interpreter": {
    "hash": "bd5de251b24c9a8734ae8c2691aee4bff43568199ac32657ff6a0afbbda5cb66"
   }
  }
 },
 "nbformat": 4,
 "nbformat_minor": 5
}
